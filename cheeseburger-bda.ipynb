{
 "cells": [
  {
   "cell_type": "code",
   "execution_count": 1,
   "metadata": {
    "_cell_guid": "b1076dfc-b9ad-4769-8c92-a6c4dae69d19",
    "_uuid": "8f2839f25d086af736a60e9eeb907d3b93b6e0e5"
   },
   "outputs": [],
   "source": [
    "from torch.utils.data import DataLoader, Dataset\n",
    "import torchvision\n",
    "from torchvision import transforms\n",
    "import pandas as panda\n",
    "import numpy as np\n",
    "class DatasetHindawi(Dataset):    \n",
    "    def __init__(self, file_path, transform=None):\n",
    "        self.csv_train = panda.read_csv(file_path)\n",
    "        self.transform = transform\n",
    "        self.raw_train = self.csv_train.to_numpy()\n",
    "        #self.filtered_train_indexes = np.where(( (raw_train == 'character_01_ka') | (raw_train == 'character_02_kha') | (raw_train == 'character_03_ga') | (raw_train == 'character_04_gha') | (raw_train == 'character_05_kna') ))\n",
    "        #filtered_train = raw_train[filtered_train_indexes[0],:]\n",
    "        self.filtered_train = self.raw_train\n",
    "        self.y_train = self.filtered_train[:,1024]\n",
    "        self.lookupTable_y, self.y_train_indexed = np.unique(self.y_train, return_inverse=True)\n",
    "        print(self.y_train_indexed)\n",
    "        self.x_train = self.filtered_train[:,:-1]\n",
    "        self.x_train = self.x_train.astype(dtype=float)\n",
    "        \n",
    "    def __len__(self):\n",
    "        return len(self.raw_train)\n",
    "    \n",
    "    def __getitem__(self, index):\n",
    "        # load image as ndarray type (Height * Width * Channels)\n",
    "        # be carefull for converting dtype to np.uint8 [Unsigned integer (0 to 255)]\n",
    "        # in this example, we use ToTensor(), so we define the numpy array like (H, W, C)\n",
    "        image = self.x_train[index].reshape(1,32,32)\n",
    "        label = self.y_train_indexed[index]        \n",
    "        if self.transform is not None:\n",
    "            image = self.transform(image)            \n",
    "        return image, label"
   ]
  },
  {
   "cell_type": "code",
   "execution_count": 2,
   "metadata": {
    "_cell_guid": "79c7e3d0-c299-4dcb-8224-4455121ee9b0",
    "_uuid": "d629ff2d2480ee46fbb7e2d37f6b5fab8052498a"
   },
   "outputs": [
    {
     "name": "stdout",
     "output_type": "stream",
     "text": [
      "[ 0  0  0 ... 45 45 45]\n",
      "<class 'torch.Tensor'>\n"
     ]
    }
   ],
   "source": [
    "train_dataset = DatasetHindawi('/kaggle/input/devanagari-character-set/data.csv')\n",
    "#img, lab = train_dataset2.__getitem__(0)\n",
    "#print(img.shape)\n",
    "#print(lab)\n",
    "train_loader = DataLoader(train_dataset, batch_size=512, shuffle=True)\n",
    "train_iter = iter(train_loader)\n",
    "images, labels = train_iter.next()\n",
    "print(type(labels))"
   ]
  },
  {
   "cell_type": "code",
   "execution_count": 3,
   "metadata": {},
   "outputs": [],
   "source": [
    "import torch\n",
    "import torch.nn as nn\n",
    "class NeuralNet(nn.Module):\n",
    "    def __init__(self):\n",
    "        super(NeuralNet,self).__init__()\n",
    "        self.cnn_model = nn.Sequential(nn.Conv2d(1,16,3, padding=1),\n",
    "                                       nn.Tanh(),\n",
    "                                       nn.MaxPool2d(2,stride=2),\n",
    "                                       nn.Conv2d(16,32,3, padding=1),\n",
    "                                       nn.Tanh(),\n",
    "                                       nn.MaxPool2d(2,stride=2),\n",
    "                                       nn.Conv2d(32,64,3, padding=1),\n",
    "                                       nn.Tanh(),\n",
    "                                       nn.MaxPool2d(2,stride=2)\n",
    "                                      )\n",
    "        self.model = nn.Sequential(nn.Linear(1024,128),\n",
    "                                   nn.LeakyReLU(),\n",
    "                                   nn.Linear(128,46),\n",
    "                                   nn.LogSoftmax(dim=1)\n",
    "                                  )\n",
    "    def forward(self,x):\n",
    "        x = self.cnn_model(x)\n",
    "        x = x.reshape(x.shape[0],1024)\n",
    "        y_pred = self.model(x)\n",
    "        #print(y_pred.shape)\n",
    "        return y_pred\n",
    "    \n",
    "#net = NeuralNet()\n",
    "#x_train = x_train.reshape(10000,1,32,32)\n",
    "#print(x_train.shape)\n",
    "#x=torch.from_numpy(x_train)\n",
    "#net.forward(x.float())"
   ]
  },
  {
   "cell_type": "code",
   "execution_count": 4,
   "metadata": {},
   "outputs": [
    {
     "name": "stdout",
     "output_type": "stream",
     "text": [
      "0.017578125\n",
      "0.029296875\n",
      "0.0234375\n",
      "0.0234375\n",
      "0.04296875\n",
      "0.07421875\n",
      "0.083984375\n",
      "0.029296875\n",
      "0.064453125\n",
      "0.09765625\n",
      "0.0859375\n",
      "0.12890625\n",
      "0.15625\n",
      "0.150390625\n",
      "0.181640625\n",
      "0.19921875\n",
      "0.2109375\n",
      "0.197265625\n",
      "0.189453125\n",
      "0.203125\n",
      "0.19921875\n",
      "0.1875\n",
      "0.201171875\n",
      "0.216796875\n",
      "0.244140625\n",
      "0.244140625\n",
      "0.232421875\n",
      "0.23046875\n",
      "0.23828125\n",
      "0.2578125\n",
      "0.2578125\n",
      "0.275390625\n",
      "0.330078125\n",
      "0.3359375\n",
      "0.32421875\n",
      "0.353515625\n",
      "0.34765625\n",
      "0.35546875\n",
      "0.333984375\n",
      "0.3359375\n",
      "0.345703125\n",
      "0.46875\n",
      "0.416015625\n",
      "0.40234375\n",
      "0.435546875\n",
      "0.40234375\n",
      "0.419921875\n",
      "0.43359375\n",
      "0.39453125\n",
      "0.44140625\n",
      "0.470703125\n",
      "0.455078125\n",
      "0.46484375\n",
      "0.4765625\n",
      "0.5078125\n",
      "0.501953125\n",
      "0.484375\n",
      "0.484375\n",
      "0.525390625\n",
      "0.537109375\n",
      "0.5\n",
      "0.4453125\n",
      "0.572265625\n",
      "0.509765625\n",
      "0.544921875\n",
      "0.56640625\n",
      "0.50390625\n",
      "0.53125\n",
      "0.5546875\n",
      "0.59765625\n",
      "0.560546875\n",
      "0.546875\n",
      "0.572265625\n",
      "0.5703125\n",
      "0.59765625\n",
      "0.58203125\n",
      "0.609375\n",
      "0.546875\n",
      "0.63671875\n",
      "0.626953125\n",
      "0.6484375\n",
      "0.59375\n",
      "0.61328125\n",
      "0.630859375\n",
      "0.6171875\n",
      "0.63671875\n",
      "0.64453125\n",
      "0.6796875\n",
      "0.6640625\n",
      "0.66796875\n",
      "0.681640625\n",
      "0.64453125\n",
      "0.708984375\n",
      "0.65625\n",
      "0.666015625\n",
      "0.701171875\n",
      "0.681640625\n",
      "0.720703125\n",
      "0.69921875\n",
      "0.7421875\n",
      "0.71484375\n",
      "0.73046875\n",
      "0.689453125\n",
      "0.724609375\n",
      "0.705078125\n",
      "0.73828125\n",
      "0.72265625\n",
      "0.7265625\n",
      "0.73046875\n",
      "0.73046875\n",
      "0.765625\n",
      "0.7734375\n",
      "0.779296875\n",
      "0.7890625\n",
      "0.736328125\n",
      "0.779296875\n",
      "0.73828125\n",
      "0.78125\n",
      "0.755859375\n",
      "0.765625\n",
      "0.787109375\n",
      "0.75390625\n",
      "0.7734375\n",
      "0.76953125\n",
      "0.78125\n",
      "0.7734375\n",
      "0.787109375\n",
      "0.787109375\n",
      "0.78125\n",
      "0.794921875\n",
      "0.787109375\n",
      "0.78515625\n",
      "0.76171875\n",
      "0.7890625\n",
      "0.7734375\n",
      "0.828125\n",
      "0.828125\n",
      "0.791015625\n",
      "0.775390625\n",
      "0.77734375\n",
      "0.78125\n",
      "0.78125\n",
      "0.796875\n",
      "0.83984375\n",
      "0.818359375\n",
      "0.7890625\n",
      "0.83203125\n",
      "0.77734375\n",
      "0.783203125\n",
      "0.791015625\n",
      "0.81640625\n",
      "0.865234375\n",
      "0.82421875\n",
      "0.8125\n",
      "0.814453125\n",
      "0.837890625\n",
      "0.8359375\n",
      "0.828125\n",
      "0.8046875\n",
      "0.849609375\n",
      "0.810546875\n",
      "0.806640625\n",
      "0.880859375\n",
      "0.810546875\n",
      "0.81640625\n",
      "0.82421875\n",
      "0.841796875\n",
      "0.84765625\n",
      "0.833984375\n",
      "0.830078125\n",
      "0.8125\n",
      "0.84765625\n",
      "0.830078125\n",
      "0.83203125\n",
      "0.861328125\n",
      "\n",
      "Training Time (in minutes) = 0.6901922225952148\n"
     ]
    }
   ],
   "source": [
    "import torch\n",
    "from time import time\n",
    "net = NeuralNet()\n",
    "acc_arr = []\n",
    "\n",
    "criterion = nn.NLLLoss()\n",
    "optimizer = torch.optim.Adam(net.parameters(), lr=0.0005)\n",
    "epochs = 175\n",
    "time0 = time()\n",
    "\n",
    "for e in range(epochs):\n",
    "    x, y = train_iter.next()\n",
    "    optimizer.zero_grad()        \n",
    "    y_pred = net(x.float())\n",
    "    print((torch.argmax(y_pred,dim=1) == y).float().mean().item())\n",
    "    acc_arr.append((torch.argmax(y_pred,dim=1) == y).float().mean().item())\n",
    "    loss = criterion(y_pred, y)        \n",
    "    loss.backward()\n",
    "    optimizer.step()    \n",
    "print(\"\\nTraining Time (in minutes) =\",(time()-time0)/60)\n",
    "torch.save(net.state_dict(), '/kaggle/working/kalam.pth')"
   ]
  },
  {
   "cell_type": "code",
   "execution_count": 5,
   "metadata": {},
   "outputs": [
    {
     "data": {
      "text/plain": [
       "[<matplotlib.lines.Line2D at 0x7fe9025ed080>]"
      ]
     },
     "execution_count": 5,
     "metadata": {},
     "output_type": "execute_result"
    },
    {
     "data": {
      "image/png": "[encoded data removed]",
      "text/plain": [
       "<Figure size 432x288 with 1 Axes>"
      ]
     },
     "metadata": {
      "needs_background": "light"
     },
     "output_type": "display_data"
    }
   ],
   "source": [
    "from matplotlib import pyplot as plt\n",
    "plt.plot(acc_arr,'r-')"
   ]
  },
  {
   "cell_type": "code",
   "execution_count": 6,
   "metadata": {},
   "outputs": [
    {
     "name": "stdout",
     "output_type": "stream",
     "text": [
      "['character_01_ka' 'character_02_kha' 'character_03_ga' 'character_04_gha'\n",
      " 'character_05_kna' 'character_06_cha' 'character_07_chha'\n",
      " 'character_08_ja' 'character_09_jha']\n",
      "(18000, 1, 32, 32)\n"
     ]
    }
   ],
   "source": [
    "raw_test = panda.read_csv(\"/kaggle/input/devanagari-character-set/data.csv\").to_numpy()\n",
    "y_test = raw_test[:18000,1024]\n",
    "lookupTable_y, y_test_indexed = np.unique(y_test, return_inverse=True)\n",
    "print(lookupTable_y)\n",
    "x_test = raw_test[:18000,:-1].reshape(18000,1,32,32)\n",
    "x_test = x_test.astype(dtype=float)\n",
    "print(x_test.shape)\n",
    "y_test_pred = net(torch.tensor(x_test).float())"
   ]
  },
  {
   "cell_type": "code",
   "execution_count": 7,
   "metadata": {},
   "outputs": [
    {
     "name": "stdout",
     "output_type": "stream",
     "text": [
      "0.8376666903495789\n"
     ]
    }
   ],
   "source": [
    "y = torch.tensor(y_test_indexed)\n",
    "print((torch.argmax(y_test_pred,dim=1) == y).float().mean().item())\n",
    "\n"
   ]
  }
 ],
 "metadata": {
  "kernelspec": {
   "display_name": "Python 3",
   "language": "python",
   "name": "python3"
  },
  "language_info": {
   "codemirror_mode": {
    "name": "ipython",
    "version": 3
   },
   "file_extension": ".py",
   "mimetype": "text/x-python",
   "name": "python",
   "nbconvert_exporter": "python",
   "pygments_lexer": "ipython3",
   "version": "3.6.6"
  }
 },
 "nbformat": 4,
 "nbformat_minor": 1
}
